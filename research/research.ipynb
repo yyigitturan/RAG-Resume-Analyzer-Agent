{
 "cells": [
  {
   "cell_type": "code",
   "execution_count": 16,
   "id": "b65dfb6c",
   "metadata": {},
   "outputs": [],
   "source": [
    "import os \n",
    "import fitz \n",
    "from docling.document_converter import DocumentConverter \n",
    "from langchain_docling import DoclingLoader \n",
    "from dotenv import load_dotenv \n",
    "from langchain_google_genai import ChatGoogleGenerativeAI\n",
    "import getpass"
   ]
  },
  {
   "cell_type": "markdown",
   "id": "3f18957d",
   "metadata": {},
   "source": [
    "# Content Extraction "
   ]
  },
  {
   "cell_type": "code",
   "execution_count": 2,
   "id": "c2a28d90",
   "metadata": {},
   "outputs": [],
   "source": [
    "\n",
    "path = \"/Users/YGT/ygt/RAG-Resume-Analyzer-Agent/documents/data-science-manager-resume-example.pdf\"\n",
    "\n",
    "def extract_text_pdf(filepath): \n",
    "    doc = fitz.open(filepath) \n",
    "    text = \"\" \n",
    "    for page in doc: \n",
    "        text += page.get_text() \n",
    "    doc.close() \n",
    "    return text.strip()  "
   ]
  },
  {
   "cell_type": "code",
   "execution_count": 3,
   "id": "6750b7f1",
   "metadata": {},
   "outputs": [
    {
     "data": {
      "text/plain": [
       "'KALEB SAXTON\\nData Science Manager\\nksaxton@email.com\\n(123) 456-7890\\nHouston, TX\\nLinkedIn\\nEDUCATION\\nB.S.\\nMathematics and Economics\\nRice University\\nSeptember 2008 - April 2012\\nHouston, TX\\nSKILLS\\nPython (NumPy, Pandas, Scikit-\\nlearn, Keras, Flask)\\nSQL (Redshift, MySQL, Postgres,\\nNoSQL)\\nGit\\nLeadership Experience\\nRecommendation Engines\\nCustomer Segmentation\\nPropensity Modeling\\nProductionizing Models\\nWORK EXPERIENCE\\nData Science Manager\\nWestlake Chemical\\nFebruary 2018 - current\\nHouston, TX\\n· Supervised 3 data scientists and 1 data engineer in developing\\nmarketing mix models that led to an ROI improvement of 21%\\non digital marketing spend over the last 13 months\\n· Collaborated with the product and marketing teams to identify\\nwhich pre-client interactions increased chances of conversions,\\nultimately helping team to increase conversion rates by 32%\\n· Developed documentation for methodologies and standards for\\nthe growing data science team\\n· Identified duplications across team projects, and reduced\\ninstances of this by 92% with increased coordination and\\naccountability\\nSenior Data Scientist\\nEnergy Transfer Partners\\nJanuary 2015 - February 2018\\nHouston, TX\\n· Worked closely with the product team to build a production\\nprediction engine in Python page, which reduced crude oil profit\\nloss by 16%\\n· Used random forest models to study well subsets in order to\\noptimize and increase efficiency by 22%\\n· Compiled and prepared data and reports 2 times per month for\\nstakeholders and functional teams\\n· Recommended over 100 actionable steps within the first year\\nthat improved automation by 7% and profits by 9%\\nData Analyst\\nCenterPoint Energy\\nApril 2012 - January 2015\\nHouston, TX\\n· Identified process improvements through client data analysis,\\nwhich led to a reduced profit loss of 8%\\n· Owned the reporting using Python and SQL for energy\\nproduction, saving 30+ hours of manual hours each week\\n· Built ETL infrastructures and delivered data to Redshift, which\\nincreased stakeholder decision making output by 42%\\n· Created and developed 5 new testing strategies, and created\\nand updated the documentation'"
      ]
     },
     "execution_count": 3,
     "metadata": {},
     "output_type": "execute_result"
    }
   ],
   "source": [
    "extract_text_pdf(path)"
   ]
  },
  {
   "cell_type": "code",
   "execution_count": 4,
   "id": "94d26a69",
   "metadata": {},
   "outputs": [
    {
     "name": "stderr",
     "output_type": "stream",
     "text": [
      "2025-10-29 19:47:28,814 - INFO - detected formats: [<InputFormat.PDF: 'pdf'>]\n",
      "2025-10-29 19:47:28,861 - INFO - Going to convert document batch...\n",
      "2025-10-29 19:47:28,862 - INFO - Initializing pipeline for StandardPdfPipeline with options hash 4f2edc0f7d9bb60b38ebfecf9a2609f5\n",
      "2025-10-29 19:47:28,871 - INFO - Loading plugin 'docling_defaults'\n",
      "2025-10-29 19:47:28,872 - WARNING - The plugin langchain_docling will not be loaded because Docling is being executed with allow_external_plugins=false.\n",
      "2025-10-29 19:47:28,872 - INFO - Registered picture descriptions: ['vlm', 'api']\n",
      "2025-10-29 19:47:28,881 - INFO - Loading plugin 'docling_defaults'\n",
      "2025-10-29 19:47:28,884 - WARNING - The plugin langchain_docling will not be loaded because Docling is being executed with allow_external_plugins=false.\n",
      "2025-10-29 19:47:28,884 - INFO - Registered ocr engines: ['auto', 'easyocr', 'ocrmac', 'rapidocr', 'tesserocr', 'tesseract']\n",
      "2025-10-29 19:47:29,908 - INFO - Auto OCR model selected ocrmac.\n",
      "2025-10-29 19:47:29,914 - INFO - Accelerator device: 'mps'\n",
      "2025-10-29 19:47:31,843 - INFO - Accelerator device: 'mps'\n",
      "2025-10-29 19:47:32,512 - INFO - Processing document data-science-manager-resume-example.pdf\n",
      "2025-10-29 19:47:33,690 - INFO - Finished converting document data-science-manager-resume-example.pdf in 4.88 sec.\n"
     ]
    },
    {
     "name": "stdout",
     "output_type": "stream",
     "text": [
      "## KALEB SAXTON\n",
      "\n",
      "Data Science Manager\n",
      "\n",
      "- ksaxton@email.com\n",
      "- (123) 456-7890\n",
      "- Houston, TX\n",
      "- LinkedIn\n",
      "\n",
      "## EDUCATION\n",
      "\n",
      "B.S.\n",
      "\n",
      "Mathematics and Economics\n",
      "\n",
      "## Rice University\n",
      "\n",
      "- September 2008 - April 2012\n",
      "- Houston, TX\n",
      "\n",
      "## SKILLS\n",
      "\n",
      "Python (NumPy, Pandas, Scikitlearn, Keras, Flask)\n",
      "\n",
      "SQL (Redshift, MySQL, Postgres, NoSQL)\n",
      "\n",
      "Git\n",
      "\n",
      "Leadership Experience\n",
      "\n",
      "Recommendation Engines\n",
      "\n",
      "Customer Segmentation\n",
      "\n",
      "Propensity Modeling\n",
      "\n",
      "Productionizing Models\n",
      "\n",
      "## WORK EXPERIENCE\n",
      "\n",
      "## Data Science Manager\n",
      "\n",
      "## Westlake Chemical\n",
      "\n",
      "- February 2018 - current\n",
      "- Supervised 3 data scientists and 1 data engineer in developing marketing mix models that led to an ROI improvement of 21% on digital marketing spend over the last 13 months\n",
      "- Collaborated with the product and marketing teams to identify which pre-client interactions increased chances of conversions, ultimately helping team to increase conversion rates by 32%\n",
      "- Developed documentation for methodologies and standards for the growing data science team\n",
      "- Identified duplications across team projects, and reduced instances of this by 92% with increased coordination and accountability\n",
      "\n",
      "- [ ] Houston, TX\n",
      "\n",
      "## Senior Data Scientist\n",
      "\n",
      "## Energy Transfer Partners\n",
      "\n",
      "- January 2015 - February 2018\n",
      "- Worked closely with the product team to build a production prediction engine in Python page, which reduced crude oil profit loss by 16%\n",
      "- Used random forest models to study well subsets in order to optimize and increase efficiency by 22%\n",
      "- Compiled and prepared data and reports 2 times per month for stakeholders and functional teams\n",
      "- Recommended over 100 actionable steps within the first year that improved automation by 7% and profits by 9%\n",
      "\n",
      "- Houston, TX\n",
      "\n",
      "## Data Analyst\n",
      "\n",
      "## CenterPoint Energy\n",
      "\n",
      "- April 2012 - January 2015\n",
      "- Identified process improvements through client data analysis, which led to a reduced profit loss of 8%\n",
      "- Owned the reporting using Python and SQL for energy production, saving 30+ hours of manual hours each week\n",
      "- Built ETL infrastructures and delivered data to Redshift, which increased stakeholder decision making output by 42%\n",
      "- Created and developed 5 new testing strategies, and created and updated the documentation\n",
      "\n",
      "- Houston, TX\n"
     ]
    }
   ],
   "source": [
    "converter = DocumentConverter() \n",
    "result = converter.convert(path) \n",
    "print(result.document.export_to_markdown()) "
   ]
  },
  {
   "cell_type": "code",
   "execution_count": 5,
   "id": "dfff4c07",
   "metadata": {},
   "outputs": [
    {
     "data": {
      "text/plain": [
       "<bound method DoclingDocument.export_to_markdown of DoclingDocument(schema_name='DoclingDocument', version='1.7.0', name='data-science-manager-resume-example', origin=DocumentOrigin(mimetype='application/pdf', binary_hash=5637811206403578778, filename='data-science-manager-resume-example.pdf', uri=None), furniture=GroupItem(self_ref='#/furniture', parent=None, children=[], content_layer=<ContentLayer.FURNITURE: 'furniture'>, name='_root_', label=<GroupLabel.UNSPECIFIED: 'unspecified'>), body=GroupItem(self_ref='#/body', parent=None, children=[RefItem(cref='#/texts/0'), RefItem(cref='#/texts/1'), RefItem(cref='#/groups/0'), RefItem(cref='#/texts/6'), RefItem(cref='#/texts/7'), RefItem(cref='#/texts/8'), RefItem(cref='#/texts/9'), RefItem(cref='#/groups/1'), RefItem(cref='#/texts/12'), RefItem(cref='#/texts/13'), RefItem(cref='#/texts/14'), RefItem(cref='#/texts/15'), RefItem(cref='#/texts/16'), RefItem(cref='#/texts/17'), RefItem(cref='#/texts/18'), RefItem(cref='#/texts/19'), RefItem(cref='#/texts/20'), RefItem(cref='#/texts/21'), RefItem(cref='#/texts/22'), RefItem(cref='#/texts/23'), RefItem(cref='#/groups/2'), RefItem(cref='#/groups/3'), RefItem(cref='#/texts/30'), RefItem(cref='#/texts/31'), RefItem(cref='#/groups/4'), RefItem(cref='#/groups/5'), RefItem(cref='#/texts/38'), RefItem(cref='#/texts/39'), RefItem(cref='#/groups/7'), RefItem(cref='#/groups/8')], content_layer=<ContentLayer.BODY: 'body'>, name='_root_', label=<GroupLabel.UNSPECIFIED: 'unspecified'>), groups=[ListGroup(self_ref='#/groups/0', parent=RefItem(cref='#/body'), children=[RefItem(cref='#/texts/2'), RefItem(cref='#/texts/3'), RefItem(cref='#/texts/4'), RefItem(cref='#/texts/5')], content_layer=<ContentLayer.BODY: 'body'>, name='list', label=<GroupLabel.LIST: 'list'>), ListGroup(self_ref='#/groups/1', parent=RefItem(cref='#/body'), children=[RefItem(cref='#/texts/10'), RefItem(cref='#/texts/11')], content_layer=<ContentLayer.BODY: 'body'>, name='list', label=<GroupLabel.LIST: 'list'>), ListGroup(self_ref='#/groups/2', parent=RefItem(cref='#/body'), children=[RefItem(cref='#/texts/24'), RefItem(cref='#/texts/26'), RefItem(cref='#/texts/27'), RefItem(cref='#/texts/28'), RefItem(cref='#/texts/29')], content_layer=<ContentLayer.BODY: 'body'>, name='list', label=<GroupLabel.LIST: 'list'>), GroupItem(self_ref='#/groups/3', parent=RefItem(cref='#/body'), children=[RefItem(cref='#/texts/25')], content_layer=<ContentLayer.BODY: 'body'>, name='group', label=<GroupLabel.FORM_AREA: 'form_area'>), ListGroup(self_ref='#/groups/4', parent=RefItem(cref='#/body'), children=[RefItem(cref='#/texts/32'), RefItem(cref='#/texts/34'), RefItem(cref='#/texts/35'), RefItem(cref='#/texts/36'), RefItem(cref='#/texts/37')], content_layer=<ContentLayer.BODY: 'body'>, name='list', label=<GroupLabel.LIST: 'list'>), GroupItem(self_ref='#/groups/5', parent=RefItem(cref='#/body'), children=[RefItem(cref='#/groups/6')], content_layer=<ContentLayer.BODY: 'body'>, name='group', label=<GroupLabel.FORM_AREA: 'form_area'>), ListGroup(self_ref='#/groups/6', parent=RefItem(cref='#/groups/5'), children=[RefItem(cref='#/texts/33')], content_layer=<ContentLayer.BODY: 'body'>, name='group', label=<GroupLabel.LIST: 'list'>), ListGroup(self_ref='#/groups/7', parent=RefItem(cref='#/body'), children=[RefItem(cref='#/texts/40'), RefItem(cref='#/texts/42'), RefItem(cref='#/texts/43'), RefItem(cref='#/texts/44'), RefItem(cref='#/texts/45')], content_layer=<ContentLayer.BODY: 'body'>, name='list', label=<GroupLabel.LIST: 'list'>), GroupItem(self_ref='#/groups/8', parent=RefItem(cref='#/body'), children=[RefItem(cref='#/groups/9')], content_layer=<ContentLayer.BODY: 'body'>, name='group', label=<GroupLabel.FORM_AREA: 'form_area'>), ListGroup(self_ref='#/groups/9', parent=RefItem(cref='#/groups/8'), children=[RefItem(cref='#/texts/41')], content_layer=<ContentLayer.BODY: 'body'>, name='group', label=<GroupLabel.LIST: 'list'>)], texts=[SectionHeaderItem(self_ref='#/texts/0', parent=RefItem(cref='#/body'), children=[], content_layer=<ContentLayer.BODY: 'body'>, label=<DocItemLabel.SECTION_HEADER: 'section_header'>, prov=[ProvenanceItem(page_no=1, bbox=BoundingBox(l=21.598, t=748.011, r=180.872, b=729.548, coord_origin=<CoordOrigin.BOTTOMLEFT: 'BOTTOMLEFT'>), charspan=(0, 12))], orig='KALEB SAXTON', text='KALEB SAXTON', formatting=None, hyperlink=None, level=1), TextItem(self_ref='#/texts/1', parent=RefItem(cref='#/body'), children=[], content_layer=<ContentLayer.BODY: 'body'>, label=<DocItemLabel.TEXT: 'text'>, prov=[ProvenanceItem(page_no=1, bbox=BoundingBox(l=20.857, t=717.383, r=185.551, b=703.536, coord_origin=<CoordOrigin.BOTTOMLEFT: 'BOTTOMLEFT'>), charspan=(0, 20))], orig='Data Science Manager', text='Data Science Manager', formatting=None, hyperlink=None), ListItem(self_ref='#/texts/2', parent=RefItem(cref='#/groups/0'), children=[], content_layer=<ContentLayer.BODY: 'body'>, label=<DocItemLabel.LIST_ITEM: 'list_item'>, prov=[ProvenanceItem(page_no=1, bbox=BoundingBox(l=41.367, t=677.61, r=150.143, b=667.596, coord_origin=<CoordOrigin.BOTTOMLEFT: 'BOTTOMLEFT'>), charspan=(0, 17))], orig='ksaxton@email.com', text='ksaxton@email.com', formatting=None, hyperlink=None, enumerated=False, marker=''), ListItem(self_ref='#/texts/3', parent=RefItem(cref='#/groups/0'), children=[], content_layer=<ContentLayer.BODY: 'body'>, label=<DocItemLabel.LIST_ITEM: 'list_item'>, prov=[ProvenanceItem(page_no=1, bbox=BoundingBox(l=41.367, t=660.36, r=122.652, b=650.346, coord_origin=<CoordOrigin.BOTTOMLEFT: 'BOTTOMLEFT'>), charspan=(0, 14))], orig='(123) 456-7890', text='456-7890', formatting=None, hyperlink=None, enumerated=True, marker='(123)'), ListItem(self_ref='#/texts/4', parent=RefItem(cref='#/groups/0'), children=[], content_layer=<ContentLayer.BODY: 'body'>, label=<DocItemLabel.LIST_ITEM: 'list_item'>, prov=[ProvenanceItem(page_no=1, bbox=BoundingBox(l=41.367, t=643.11, r=106.716, b=633.096, coord_origin=<CoordOrigin.BOTTOMLEFT: 'BOTTOMLEFT'>), charspan=(0, 11))], orig='Houston, TX', text='Houston, TX', formatting=None, hyperlink=None, enumerated=False, marker=''), ListItem(self_ref='#/texts/5', parent=RefItem(cref='#/groups/0'), children=[], content_layer=<ContentLayer.BODY: 'body'>, label=<DocItemLabel.LIST_ITEM: 'list_item'>, prov=[ProvenanceItem(page_no=1, bbox=BoundingBox(l=41.367, t=625.86, r=88.856, b=615.846, coord_origin=<CoordOrigin.BOTTOMLEFT: 'BOTTOMLEFT'>), charspan=(0, 8))], orig='LinkedIn', text='LinkedIn', formatting=None, hyperlink=None, enumerated=False, marker=''), SectionHeaderItem(self_ref='#/texts/6', parent=RefItem(cref='#/body'), children=[], content_layer=<ContentLayer.BODY: 'body'>, label=<DocItemLabel.SECTION_HEADER: 'section_header'>, prov=[ProvenanceItem(page_no=1, bbox=BoundingBox(l=21.598, t=572.633, r=115.366, b=558.786, coord_origin=<CoordOrigin.BOTTOMLEFT: 'BOTTOMLEFT'>), charspan=(0, 9))], orig='EDUCATION', text='EDUCATION', formatting=None, hyperlink=None, level=1), TextItem(self_ref='#/texts/7', parent=RefItem(cref='#/body'), children=[], content_layer=<ContentLayer.BODY: 'body'>, label=<DocItemLabel.TEXT: 'text'>, prov=[ProvenanceItem(page_no=1, bbox=BoundingBox(l=21.598, t=547.286, r=42.123, b=536.092, coord_origin=<CoordOrigin.BOTTOMLEFT: 'BOTTOMLEFT'>), charspan=(0, 4))], orig='B.S.', text='B.S.', formatting=None, hyperlink=None), TextItem(self_ref='#/texts/8', parent=RefItem(cref='#/body'), children=[], content_layer=<ContentLayer.BODY: 'body'>, label=<DocItemLabel.TEXT: 'text'>, prov=[ProvenanceItem(page_no=1, bbox=BoundingBox(l=21.598, t=528.536, r=184.219, b=517.342, coord_origin=<CoordOrigin.BOTTOMLEFT: 'BOTTOMLEFT'>), charspan=(0, 25))], orig='Mathematics and Economics', text='Mathematics and Economics', formatting=None, hyperlink=None), SectionHeaderItem(self_ref='#/texts/9', parent=RefItem(cref='#/body'), children=[], content_layer=<ContentLayer.BODY: 'body'>, label=<DocItemLabel.SECTION_HEADER: 'section_header'>, prov=[ProvenanceItem(page_no=1, bbox=BoundingBox(l=21.598, t=509.786, r=106.196, b=498.592, coord_origin=<CoordOrigin.BOTTOMLEFT: 'BOTTOMLEFT'>), charspan=(0, 15))], orig='Rice University', text='Rice University', formatting=None, hyperlink=None, level=1), ListItem(self_ref='#/texts/10', parent=RefItem(cref='#/groups/1'), children=[], content_layer=<ContentLayer.BODY: 'body'>, label=<DocItemLabel.LIST_ITEM: 'list_item'>, prov=[ProvenanceItem(page_no=1, bbox=BoundingBox(l=38.367, t=491.61, r=188.662, b=481.596, coord_origin=<CoordOrigin.BOTTOMLEFT: 'BOTTOMLEFT'>), charspan=(0, 27))], orig='September 2008 - April 2012', text='September 2008 - April 2012', formatting=None, hyperlink=None, enumerated=False, marker=''), ListItem(self_ref='#/texts/11', parent=RefItem(cref='#/groups/1'), children=[], content_layer=<ContentLayer.BODY: 'body'>, label=<DocItemLabel.LIST_ITEM: 'list_item'>, prov=[ProvenanceItem(page_no=1, bbox=BoundingBox(l=38.367, t=474.36, r=100.972, b=464.346, coord_origin=<CoordOrigin.BOTTOMLEFT: 'BOTTOMLEFT'>), charspan=(0, 11))], orig='Houston, TX', text='Houston, TX', formatting=None, hyperlink=None, enumerated=False, marker=''), SectionHeaderItem(self_ref='#/texts/12', parent=RefItem(cref='#/body'), children=[], content_layer=<ContentLayer.BODY: 'body'>, label=<DocItemLabel.SECTION_HEADER: 'section_header'>, prov=[ProvenanceItem(page_no=1, bbox=BoundingBox(l=21.598, t=426.383, r=76.645, b=412.536, coord_origin=<CoordOrigin.BOTTOMLEFT: 'BOTTOMLEFT'>), charspan=(0, 6))], orig='SKILLS', text='SKILLS', formatting=None, hyperlink=None, level=1), TextItem(self_ref='#/texts/13', parent=RefItem(cref='#/body'), children=[], content_layer=<ContentLayer.BODY: 'body'>, label=<DocItemLabel.TEXT: 'text'>, prov=[ProvenanceItem(page_no=1, bbox=BoundingBox(l=21.598, t=401.61, r=182.64, b=377.346, coord_origin=<CoordOrigin.BOTTOMLEFT: 'BOTTOMLEFT'>), charspan=(0, 49))], orig='Python (NumPy, Pandas, Scikitlearn, Keras, Flask)', text='Python (NumPy, Pandas, Scikitlearn, Keras, Flask)', formatting=None, hyperlink=None), TextItem(self_ref='#/texts/14', parent=RefItem(cref='#/body'), children=[], content_layer=<ContentLayer.BODY: 'body'>, label=<DocItemLabel.TEXT: 'text'>, prov=[ProvenanceItem(page_no=1, bbox=BoundingBox(l=21.598, t=370.11, r=187.046, b=345.846, coord_origin=<CoordOrigin.BOTTOMLEFT: 'BOTTOMLEFT'>), charspan=(0, 38))], orig='SQL (Redshift, MySQL, Postgres, NoSQL)', text='SQL (Redshift, MySQL, Postgres, NoSQL)', formatting=None, hyperlink=None), TextItem(self_ref='#/texts/15', parent=RefItem(cref='#/body'), children=[], content_layer=<ContentLayer.BODY: 'body'>, label=<DocItemLabel.TEXT: 'text'>, prov=[ProvenanceItem(page_no=1, bbox=BoundingBox(l=21.598, t=338.61, r=36.734, b=328.596, coord_origin=<CoordOrigin.BOTTOMLEFT: 'BOTTOMLEFT'>), charspan=(0, 3))], orig='Git', text='Git', formatting=None, hyperlink=None), TextItem(self_ref='#/texts/16', parent=RefItem(cref='#/body'), children=[], content_layer=<ContentLayer.BODY: 'body'>, label=<DocItemLabel.TEXT: 'text'>, prov=[ProvenanceItem(page_no=1, bbox=BoundingBox(l=21.598, t=321.36, r=138.025, b=311.346, coord_origin=<CoordOrigin.BOTTOMLEFT: 'BOTTOMLEFT'>), charspan=(0, 21))], orig='Leadership Experience', text='Leadership Experience', formatting=None, hyperlink=None), TextItem(self_ref='#/texts/17', parent=RefItem(cref='#/body'), children=[], content_layer=<ContentLayer.BODY: 'body'>, label=<DocItemLabel.TEXT: 'text'>, prov=[ProvenanceItem(page_no=1, bbox=BoundingBox(l=21.598, t=304.11, r=155.85, b=294.096, coord_origin=<CoordOrigin.BOTTOMLEFT: 'BOTTOMLEFT'>), charspan=(0, 22))], orig='Recommendation Engines', text='Recommendation Engines', formatting=None, hyperlink=None), TextItem(self_ref='#/texts/18', parent=RefItem(cref='#/body'), children=[], content_layer=<ContentLayer.BODY: 'body'>, label=<DocItemLabel.TEXT: 'text'>, prov=[ProvenanceItem(page_no=1, bbox=BoundingBox(l=21.598, t=286.86, r=146.105, b=276.846, coord_origin=<CoordOrigin.BOTTOMLEFT: 'BOTTOMLEFT'>), charspan=(0, 21))], orig='Customer Segmentation', text='Customer Segmentation', formatting=None, hyperlink=None), TextItem(self_ref='#/texts/19', parent=RefItem(cref='#/body'), children=[], content_layer=<ContentLayer.BODY: 'body'>, label=<DocItemLabel.TEXT: 'text'>, prov=[ProvenanceItem(page_no=1, bbox=BoundingBox(l=21.598, t=269.61, r=128.879, b=259.596, coord_origin=<CoordOrigin.BOTTOMLEFT: 'BOTTOMLEFT'>), charspan=(0, 19))], orig='Propensity Modeling', text='Propensity Modeling', formatting=None, hyperlink=None), TextItem(self_ref='#/texts/20', parent=RefItem(cref='#/body'), children=[], content_layer=<ContentLayer.BODY: 'body'>, label=<DocItemLabel.TEXT: 'text'>, prov=[ProvenanceItem(page_no=1, bbox=BoundingBox(l=21.598, t=252.36, r=143.85, b=242.346, coord_origin=<CoordOrigin.BOTTOMLEFT: 'BOTTOMLEFT'>), charspan=(0, 22))], orig='Productionizing Models', text='Productionizing Models', formatting=None, hyperlink=None), SectionHeaderItem(self_ref='#/texts/21', parent=RefItem(cref='#/body'), children=[], content_layer=<ContentLayer.BODY: 'body'>, label=<DocItemLabel.SECTION_HEADER: 'section_header'>, prov=[ProvenanceItem(page_no=1, bbox=BoundingBox(l=230.402, t=749.633, r=381.854, b=735.786, coord_origin=<CoordOrigin.BOTTOMLEFT: 'BOTTOMLEFT'>), charspan=(0, 15))], orig='WORK EXPERIENCE', text='WORK EXPERIENCE', formatting=None, hyperlink=None, level=1), SectionHeaderItem(self_ref='#/texts/22', parent=RefItem(cref='#/body'), children=[], content_layer=<ContentLayer.BODY: 'body'>, label=<DocItemLabel.SECTION_HEADER: 'section_header'>, prov=[ProvenanceItem(page_no=1, bbox=BoundingBox(l=230.402, t=723.599, r=394.249, b=709.458, coord_origin=<CoordOrigin.BOTTOMLEFT: 'BOTTOMLEFT'>), charspan=(0, 20))], orig='Data Science Manager', text='Data Science Manager', formatting=None, hyperlink=None, level=1), SectionHeaderItem(self_ref='#/texts/23', parent=RefItem(cref='#/body'), children=[], content_layer=<ContentLayer.BODY: 'body'>, label=<DocItemLabel.SECTION_HEADER: 'section_header'>, prov=[ProvenanceItem(page_no=1, bbox=BoundingBox(l=230.402, t=701.786, r=337.334, b=690.592, coord_origin=<CoordOrigin.BOTTOMLEFT: 'BOTTOMLEFT'>), charspan=(0, 17))], orig='Westlake Chemical', text='Westlake Chemical', formatting=None, hyperlink=None, level=1), ListItem(self_ref='#/texts/24', parent=RefItem(cref='#/groups/2'), children=[], content_layer=<ContentLayer.BODY: 'body'>, label=<DocItemLabel.LIST_ITEM: 'list_item'>, prov=[ProvenanceItem(page_no=1, bbox=BoundingBox(l=247.172, t=683.61, r=371.059, b=673.596, coord_origin=<CoordOrigin.BOTTOMLEFT: 'BOTTOMLEFT'>), charspan=(0, 23))], orig='February 2018 - current', text='February 2018 - current', formatting=None, hyperlink=None, enumerated=False, marker=''), TextItem(self_ref='#/texts/25', parent=RefItem(cref='#/groups/3'), children=[], content_layer=<ContentLayer.BODY: 'body'>, label=<DocItemLabel.CHECKBOX_UNSELECTED: 'checkbox_unselected'>, prov=[ProvenanceItem(page_no=1, bbox=BoundingBox(l=423.691, t=683.61, r=486.296, b=673.596, coord_origin=<CoordOrigin.BOTTOMLEFT: 'BOTTOMLEFT'>), charspan=(0, 11))], orig='Houston, TX', text='Houston, TX', formatting=None, hyperlink=None), ListItem(self_ref='#/texts/26', parent=RefItem(cref='#/groups/2'), children=[], content_layer=<ContentLayer.BODY: 'body'>, label=<DocItemLabel.LIST_ITEM: 'list_item'>, prov=[ProvenanceItem(page_no=1, bbox=BoundingBox(l=245.402, t=668.885, r=579.966, b=627.846, coord_origin=<CoordOrigin.BOTTOMLEFT: 'BOTTOMLEFT'>), charspan=(0, 174))], orig='· Supervised 3 data scientists and 1 data engineer in developing marketing mix models that led to an ROI improvement of 21% on digital marketing spend over the last 13 months', text='Supervised 3 data scientists and 1 data engineer in developing marketing mix models that led to an ROI improvement of 21% on digital marketing spend over the last 13 months', formatting=None, hyperlink=None, enumerated=False, marker='·'), ListItem(self_ref='#/texts/27', parent=RefItem(cref='#/groups/2'), children=[], content_layer=<ContentLayer.BODY: 'body'>, label=<DocItemLabel.LIST_ITEM: 'list_item'>, prov=[ProvenanceItem(page_no=1, bbox=BoundingBox(l=245.402, t=623.135, r=582.601, b=582.096, coord_origin=<CoordOrigin.BOTTOMLEFT: 'BOTTOMLEFT'>), charspan=(0, 187))], orig='· Collaborated with the product and marketing teams to identify which pre-client interactions increased chances of conversions, ultimately helping team to increase conversion rates by 32%', text='Collaborated with the product and marketing teams to identify which pre-client interactions increased chances of conversions, ultimately helping team to increase conversion rates by 32%', formatting=None, hyperlink=None, enumerated=False, marker='·'), ListItem(self_ref='#/texts/28', parent=RefItem(cref='#/groups/2'), children=[], content_layer=<ContentLayer.BODY: 'body'>, label=<DocItemLabel.LIST_ITEM: 'list_item'>, prov=[ProvenanceItem(page_no=1, bbox=BoundingBox(l=245.402, t=577.385, r=588.147, b=550.596, coord_origin=<CoordOrigin.BOTTOMLEFT: 'BOTTOMLEFT'>), charspan=(0, 91))], orig='· Developed documentation for methodologies and standards for the growing data science team', text='Developed documentation for methodologies and standards for the growing data science team', formatting=None, hyperlink=None, enumerated=False, marker='·'), ListItem(self_ref='#/texts/29', parent=RefItem(cref='#/groups/2'), children=[], content_layer=<ContentLayer.BODY: 'body'>, label=<DocItemLabel.LIST_ITEM: 'list_item'>, prov=[ProvenanceItem(page_no=1, bbox=BoundingBox(l=245.402, t=545.885, r=552.899, b=504.846, coord_origin=<CoordOrigin.BOTTOMLEFT: 'BOTTOMLEFT'>), charspan=(0, 131))], orig='· Identified duplications across team projects, and reduced instances of this by 92% with increased coordination and accountability', text='Identified duplications across team projects, and reduced instances of this by 92% with increased coordination and accountability', formatting=None, hyperlink=None, enumerated=False, marker='·'), SectionHeaderItem(self_ref='#/texts/30', parent=RefItem(cref='#/body'), children=[], content_layer=<ContentLayer.BODY: 'body'>, label=<DocItemLabel.SECTION_HEADER: 'section_header'>, prov=[ProvenanceItem(page_no=1, bbox=BoundingBox(l=230.402, t=478.349, r=381.391, b=464.208, coord_origin=<CoordOrigin.BOTTOMLEFT: 'BOTTOMLEFT'>), charspan=(0, 21))], orig='Senior Data Scientist', text='Senior Data Scientist', formatting=None, hyperlink=None, level=1), SectionHeaderItem(self_ref='#/texts/31', parent=RefItem(cref='#/body'), children=[], content_layer=<ContentLayer.BODY: 'body'>, label=<DocItemLabel.SECTION_HEADER: 'section_header'>, prov=[ProvenanceItem(page_no=1, bbox=BoundingBox(l=230.402, t=456.536, r=374.394, b=445.342, coord_origin=<CoordOrigin.BOTTOMLEFT: 'BOTTOMLEFT'>), charspan=(0, 24))], orig='Energy Transfer Partners', text='Energy Transfer Partners', formatting=None, hyperlink=None, level=1), ListItem(self_ref='#/texts/32', parent=RefItem(cref='#/groups/4'), children=[], content_layer=<ContentLayer.BODY: 'body'>, label=<DocItemLabel.LIST_ITEM: 'list_item'>, prov=[ProvenanceItem(page_no=1, bbox=BoundingBox(l=247.172, t=438.36, r=401.967, b=428.346, coord_origin=<CoordOrigin.BOTTOMLEFT: 'BOTTOMLEFT'>), charspan=(0, 28))], orig='January 2015 - February 2018', text='January 2015 - February 2018', formatting=None, hyperlink=None, enumerated=False, marker=''), ListItem(self_ref='#/texts/33', parent=RefItem(cref='#/groups/6'), children=[], content_layer=<ContentLayer.BODY: 'body'>, label=<DocItemLabel.LIST_ITEM: 'list_item'>, prov=[ProvenanceItem(page_no=1, bbox=BoundingBox(l=455.191, t=438.36, r=517.796, b=428.346, coord_origin=<CoordOrigin.BOTTOMLEFT: 'BOTTOMLEFT'>), charspan=(0, 11))], orig='Houston, TX', text='Houston, TX', formatting=None, hyperlink=None, enumerated=False, marker=''), ListItem(self_ref='#/texts/34', parent=RefItem(cref='#/groups/4'), children=[], content_layer=<ContentLayer.BODY: 'body'>, label=<DocItemLabel.LIST_ITEM: 'list_item'>, prov=[ProvenanceItem(page_no=1, bbox=BoundingBox(l=245.402, t=423.635, r=589.789, b=382.596, coord_origin=<CoordOrigin.BOTTOMLEFT: 'BOTTOMLEFT'>), charspan=(0, 137))], orig='· Worked closely with the product team to build a production prediction engine in Python page, which reduced crude oil profit loss by 16%', text='Worked closely with the product team to build a production prediction engine in Python page, which reduced crude oil profit loss by 16%', formatting=None, hyperlink=None, enumerated=False, marker='·'), ListItem(self_ref='#/texts/35', parent=RefItem(cref='#/groups/4'), children=[], content_layer=<ContentLayer.BODY: 'body'>, label=<DocItemLabel.LIST_ITEM: 'list_item'>, prov=[ProvenanceItem(page_no=1, bbox=BoundingBox(l=245.402, t=377.885, r=571.552, b=351.096, coord_origin=<CoordOrigin.BOTTOMLEFT: 'BOTTOMLEFT'>), charspan=(0, 101))], orig='· Used random forest models to study well subsets in order to optimize and increase efficiency by 22%', text='Used random forest models to study well subsets in order to optimize and increase efficiency by 22%', formatting=None, hyperlink=None, enumerated=False, marker='·'), ListItem(self_ref='#/texts/36', parent=RefItem(cref='#/groups/4'), children=[], content_layer=<ContentLayer.BODY: 'body'>, label=<DocItemLabel.LIST_ITEM: 'list_item'>, prov=[ProvenanceItem(page_no=1, bbox=BoundingBox(l=245.402, t=346.385, r=585.897, b=319.596, coord_origin=<CoordOrigin.BOTTOMLEFT: 'BOTTOMLEFT'>), charspan=(0, 96))], orig='· Compiled and prepared data and reports 2 times per month for stakeholders and functional teams', text='Compiled and prepared data and reports 2 times per month for stakeholders and functional teams', formatting=None, hyperlink=None, enumerated=False, marker='·'), ListItem(self_ref='#/texts/37', parent=RefItem(cref='#/groups/4'), children=[], content_layer=<ContentLayer.BODY: 'body'>, label=<DocItemLabel.LIST_ITEM: 'list_item'>, prov=[ProvenanceItem(page_no=1, bbox=BoundingBox(l=245.402, t=314.885, r=575.397, b=288.096, coord_origin=<CoordOrigin.BOTTOMLEFT: 'BOTTOMLEFT'>), charspan=(0, 110))], orig='· Recommended over 100 actionable steps within the first year that improved automation by 7% and profits by 9%', text='Recommended over 100 actionable steps within the first year that improved automation by 7% and profits by 9%', formatting=None, hyperlink=None, enumerated=False, marker='·'), SectionHeaderItem(self_ref='#/texts/38', parent=RefItem(cref='#/body'), children=[], content_layer=<ContentLayer.BODY: 'body'>, label=<DocItemLabel.SECTION_HEADER: 'section_header'>, prov=[ProvenanceItem(page_no=1, bbox=BoundingBox(l=230.402, t=261.59899999999993, r=322.141, b=247.45799999999997, coord_origin=<CoordOrigin.BOTTOMLEFT: 'BOTTOMLEFT'>), charspan=(0, 12))], orig='Data Analyst', text='Data Analyst', formatting=None, hyperlink=None, level=1), SectionHeaderItem(self_ref='#/texts/39', parent=RefItem(cref='#/body'), children=[], content_layer=<ContentLayer.BODY: 'body'>, label=<DocItemLabel.SECTION_HEADER: 'section_header'>, prov=[ProvenanceItem(page_no=1, bbox=BoundingBox(l=230.402, t=239.78600000000006, r=341.251, b=228.59199999999998, coord_origin=<CoordOrigin.BOTTOMLEFT: 'BOTTOMLEFT'>), charspan=(0, 18))], orig='CenterPoint Energy', text='CenterPoint Energy', formatting=None, hyperlink=None, level=1), ListItem(self_ref='#/texts/40', parent=RefItem(cref='#/groups/7'), children=[], content_layer=<ContentLayer.BODY: 'body'>, label=<DocItemLabel.LIST_ITEM: 'list_item'>, prov=[ProvenanceItem(page_no=1, bbox=BoundingBox(l=247.172, t=221.61, r=380.217, b=211.596, coord_origin=<CoordOrigin.BOTTOMLEFT: 'BOTTOMLEFT'>), charspan=(0, 25))], orig='April 2012 - January 2015', text='April 2012 - January 2015', formatting=None, hyperlink=None, enumerated=False, marker=''), ListItem(self_ref='#/texts/41', parent=RefItem(cref='#/groups/9'), children=[], content_layer=<ContentLayer.BODY: 'body'>, label=<DocItemLabel.LIST_ITEM: 'list_item'>, prov=[ProvenanceItem(page_no=1, bbox=BoundingBox(l=433.441, t=221.61, r=496.046, b=211.596, coord_origin=<CoordOrigin.BOTTOMLEFT: 'BOTTOMLEFT'>), charspan=(0, 11))], orig='Houston, TX', text='Houston, TX', formatting=None, hyperlink=None, enumerated=False, marker=''), ListItem(self_ref='#/texts/42', parent=RefItem(cref='#/groups/7'), children=[], content_layer=<ContentLayer.BODY: 'body'>, label=<DocItemLabel.LIST_ITEM: 'list_item'>, prov=[ProvenanceItem(page_no=1, bbox=BoundingBox(l=245.402, t=206.885, r=575.851, b=180.096, coord_origin=<CoordOrigin.BOTTOMLEFT: 'BOTTOMLEFT'>), charspan=(0, 104))], orig='· Identified process improvements through client data analysis, which led to a reduced profit loss of 8%', text='Identified process improvements through client data analysis, which led to a reduced profit loss of 8%', formatting=None, hyperlink=None, enumerated=False, marker='·'), ListItem(self_ref='#/texts/43', parent=RefItem(cref='#/groups/7'), children=[], content_layer=<ContentLayer.BODY: 'body'>, label=<DocItemLabel.LIST_ITEM: 'list_item'>, prov=[ProvenanceItem(page_no=1, bbox=BoundingBox(l=245.402, t=175.385, r=555.681, b=148.596, coord_origin=<CoordOrigin.BOTTOMLEFT: 'BOTTOMLEFT'>), charspan=(0, 108))], orig='· Owned the reporting using Python and SQL for energy production, saving 30+ hours of manual hours each week', text='Owned the reporting using Python and SQL for energy production, saving 30+ hours of manual hours each week', formatting=None, hyperlink=None, enumerated=False, marker='·'), ListItem(self_ref='#/texts/44', parent=RefItem(cref='#/groups/7'), children=[], content_layer=<ContentLayer.BODY: 'body'>, label=<DocItemLabel.LIST_ITEM: 'list_item'>, prov=[ProvenanceItem(page_no=1, bbox=BoundingBox(l=245.402, t=143.885, r=576.16, b=117.096, coord_origin=<CoordOrigin.BOTTOMLEFT: 'BOTTOMLEFT'>), charspan=(0, 117))], orig='· Built ETL infrastructures and delivered data to Redshift, which increased stakeholder decision making output by 42%', text='Built ETL infrastructures and delivered data to Redshift, which increased stakeholder decision making output by 42%', formatting=None, hyperlink=None, enumerated=False, marker='·'), ListItem(self_ref='#/texts/45', parent=RefItem(cref='#/groups/7'), children=[], content_layer=<ContentLayer.BODY: 'body'>, label=<DocItemLabel.LIST_ITEM: 'list_item'>, prov=[ProvenanceItem(page_no=1, bbox=BoundingBox(l=245.402, t=112.38499999999999, r=568.649, b=85.596, coord_origin=<CoordOrigin.BOTTOMLEFT: 'BOTTOMLEFT'>), charspan=(0, 91))], orig='· Created and developed 5 new testing strategies, and created and updated the documentation', text='Created and developed 5 new testing strategies, and created and updated the documentation', formatting=None, hyperlink=None, enumerated=False, marker='·')], pictures=[], tables=[], key_value_items=[], form_items=[], pages={1: PageItem(size=Size(width=612.0, height=792.0), image=None, page_no=1)})>"
      ]
     },
     "execution_count": 5,
     "metadata": {},
     "output_type": "execute_result"
    }
   ],
   "source": [
    "content = result.document.export_to_markdown \n",
    "content "
   ]
  },
  {
   "cell_type": "markdown",
   "id": "5f9c4c86",
   "metadata": {},
   "source": [
    "# Document Parsing"
   ]
  },
  {
   "cell_type": "code",
   "execution_count": 6,
   "id": "035885c6",
   "metadata": {},
   "outputs": [
    {
     "name": "stderr",
     "output_type": "stream",
     "text": [
      "2025-10-29 19:47:34,347 - INFO - detected formats: [<InputFormat.PDF: 'pdf'>]\n",
      "2025-10-29 19:47:34,349 - INFO - Going to convert document batch...\n",
      "2025-10-29 19:47:34,350 - INFO - Initializing pipeline for StandardPdfPipeline with options hash 4f2edc0f7d9bb60b38ebfecf9a2609f5\n",
      "2025-10-29 19:47:34,353 - INFO - Auto OCR model selected ocrmac.\n",
      "2025-10-29 19:47:34,354 - INFO - Accelerator device: 'mps'\n",
      "2025-10-29 19:47:35,732 - INFO - Accelerator device: 'mps'\n",
      "2025-10-29 19:47:36,029 - INFO - Processing document data-science-manager-resume-example.pdf\n",
      "2025-10-29 19:47:36,759 - INFO - Finished converting document data-science-manager-resume-example.pdf in 2.41 sec.\n"
     ]
    }
   ],
   "source": [
    "loader = DoclingLoader(path) \n",
    "docs = loader.load()"
   ]
  },
  {
   "cell_type": "code",
   "execution_count": 7,
   "id": "e32d7775",
   "metadata": {},
   "outputs": [
    {
     "name": "stdout",
     "output_type": "stream",
     "text": [
      "- d.page_content='KALEB SAXTON\\nData Science Manager\\n- ksaxton@email.com\\n- (123) 456-7890\\n- Houston, TX\\n- LinkedIn'\n",
      "- d.page_content='EDUCATION\\nB.S.\\nMathematics and Economics'\n",
      "- d.page_content='Rice University\\n- September 2008 - April 2012\\n- Houston, TX'\n"
     ]
    }
   ],
   "source": [
    "for d in docs[:3]: \n",
    "    print(f\"- {d.page_content=}\")"
   ]
  },
  {
   "cell_type": "markdown",
   "id": "11f5e266",
   "metadata": {},
   "source": [
    "# Loading LLM"
   ]
  },
  {
   "cell_type": "code",
   "execution_count": 8,
   "id": "08b0f11d",
   "metadata": {},
   "outputs": [
    {
     "data": {
      "text/plain": [
       "True"
      ]
     },
     "execution_count": 8,
     "metadata": {},
     "output_type": "execute_result"
    }
   ],
   "source": [
    "load_dotenv() "
   ]
  },
  {
   "cell_type": "code",
   "execution_count": 21,
   "id": "f3c75074",
   "metadata": {},
   "outputs": [],
   "source": [
    "\n",
    "GOOGLE_API_KEY= os.getenv(\"GOOGLE_API_KEY\")"
   ]
  },
  {
   "cell_type": "code",
   "execution_count": 40,
   "id": "7c32d988",
   "metadata": {},
   "outputs": [],
   "source": [
    "def load_llm(id_model: str, temperature: float): \n",
    "    llm = ChatGoogleGenerativeAI(\n",
    "        model=\"gemini-2.5-flash\",\n",
    "        temperature=temperature,\n",
    "        max_tokens=None,\n",
    "        timeout=None,\n",
    "        max_retries=2, \n",
    "    )\n",
    "    \n",
    "    return llm "
   ]
  },
  {
   "cell_type": "code",
   "execution_count": 36,
   "id": "b7bf93c0",
   "metadata": {},
   "outputs": [
    {
     "name": "stderr",
     "output_type": "stream",
     "text": [
      "2025-10-29 21:18:19,607 - WARNING - Unexpected argument 'return_thinking' provided to ChatGoogleGenerativeAI.\n",
      "/var/folders/r_/683n2_z540z4cchv8qqyf4lc0000gq/T/ipykernel_9811/3863190810.py:1: UserWarning: WARNING! return_thinking is not default parameter.\n",
      "                return_thinking was transferred to model_kwargs.\n",
      "                Please confirm that return_thinking is what you intended.\n",
      "  llm = load_llm(id_model=\"gemini-2.5-flash\", temperature=0)\n"
     ]
    }
   ],
   "source": [
    "llm = load_llm(id_model=\"gemini-2.5-flash\", temperature=0)"
   ]
  },
  {
   "cell_type": "markdown",
   "id": "385d8fe3",
   "metadata": {},
   "source": [
    "## Test LLM "
   ]
  },
  {
   "cell_type": "code",
   "execution_count": 37,
   "id": "446b0218",
   "metadata": {},
   "outputs": [
    {
     "name": "stdout",
     "output_type": "stream",
     "text": [
      "\n",
      "Summarize this resume just in 1 paragraph: \n",
      "<bound method DoclingDocument.export_to_markdown of DoclingDocument(schema_name='DoclingDocument', version='1.7.0', name='data-science-manager-resume-example', origin=DocumentOrigin(mimetype='application/pdf', binary_hash=5637811206403578778, filename='data-science-manager-resume-example.pdf', uri=None), furniture=GroupItem(self_ref='#/furniture', parent=None, children=[], content_layer=<ContentLayer.FURNITURE: 'furniture'>, name='_root_', label=<GroupLabel.UNSPECIFIED: 'unspecified'>), body=GroupItem(self_ref='#/body', parent=None, children=[RefItem(cref='#/texts/0'), RefItem(cref='#/texts/1'), RefItem(cref='#/groups/0'), RefItem(cref='#/texts/6'), RefItem(cref='#/texts/7'), RefItem(cref='#/texts/8'), RefItem(cref='#/texts/9'), RefItem(cref='#/groups/1'), RefItem(cref='#/texts/12'), RefItem(cref='#/texts/13'), RefItem(cref='#/texts/14'), RefItem(cref='#/texts/15'), RefItem(cref='#/texts/16'), RefItem(cref='#/texts/17'), RefItem(cref='#/texts/18'), RefItem(cref='#/texts/19'), RefItem(cref='#/texts/20'), RefItem(cref='#/texts/21'), RefItem(cref='#/texts/22'), RefItem(cref='#/texts/23'), RefItem(cref='#/groups/2'), RefItem(cref='#/groups/3'), RefItem(cref='#/texts/30'), RefItem(cref='#/texts/31'), RefItem(cref='#/groups/4'), RefItem(cref='#/groups/5'), RefItem(cref='#/texts/38'), RefItem(cref='#/texts/39'), RefItem(cref='#/groups/7'), RefItem(cref='#/groups/8')], content_layer=<ContentLayer.BODY: 'body'>, name='_root_', label=<GroupLabel.UNSPECIFIED: 'unspecified'>), groups=[ListGroup(self_ref='#/groups/0', parent=RefItem(cref='#/body'), children=[RefItem(cref='#/texts/2'), RefItem(cref='#/texts/3'), RefItem(cref='#/texts/4'), RefItem(cref='#/texts/5')], content_layer=<ContentLayer.BODY: 'body'>, name='list', label=<GroupLabel.LIST: 'list'>), ListGroup(self_ref='#/groups/1', parent=RefItem(cref='#/body'), children=[RefItem(cref='#/texts/10'), RefItem(cref='#/texts/11')], content_layer=<ContentLayer.BODY: 'body'>, name='list', label=<GroupLabel.LIST: 'list'>), ListGroup(self_ref='#/groups/2', parent=RefItem(cref='#/body'), children=[RefItem(cref='#/texts/24'), RefItem(cref='#/texts/26'), RefItem(cref='#/texts/27'), RefItem(cref='#/texts/28'), RefItem(cref='#/texts/29')], content_layer=<ContentLayer.BODY: 'body'>, name='list', label=<GroupLabel.LIST: 'list'>), GroupItem(self_ref='#/groups/3', parent=RefItem(cref='#/body'), children=[RefItem(cref='#/texts/25')], content_layer=<ContentLayer.BODY: 'body'>, name='group', label=<GroupLabel.FORM_AREA: 'form_area'>), ListGroup(self_ref='#/groups/4', parent=RefItem(cref='#/body'), children=[RefItem(cref='#/texts/32'), RefItem(cref='#/texts/34'), RefItem(cref='#/texts/35'), RefItem(cref='#/texts/36'), RefItem(cref='#/texts/37')], content_layer=<ContentLayer.BODY: 'body'>, name='list', label=<GroupLabel.LIST: 'list'>), GroupItem(self_ref='#/groups/5', parent=RefItem(cref='#/body'), children=[RefItem(cref='#/groups/6')], content_layer=<ContentLayer.BODY: 'body'>, name='group', label=<GroupLabel.FORM_AREA: 'form_area'>), ListGroup(self_ref='#/groups/6', parent=RefItem(cref='#/groups/5'), children=[RefItem(cref='#/texts/33')], content_layer=<ContentLayer.BODY: 'body'>, name='group', label=<GroupLabel.LIST: 'list'>), ListGroup(self_ref='#/groups/7', parent=RefItem(cref='#/body'), children=[RefItem(cref='#/texts/40'), RefItem(cref='#/texts/42'), RefItem(cref='#/texts/43'), RefItem(cref='#/texts/44'), RefItem(cref='#/texts/45')], content_layer=<ContentLayer.BODY: 'body'>, name='list', label=<GroupLabel.LIST: 'list'>), GroupItem(self_ref='#/groups/8', parent=RefItem(cref='#/body'), children=[RefItem(cref='#/groups/9')], content_layer=<ContentLayer.BODY: 'body'>, name='group', label=<GroupLabel.FORM_AREA: 'form_area'>), ListGroup(self_ref='#/groups/9', parent=RefItem(cref='#/groups/8'), children=[RefItem(cref='#/texts/41')], content_layer=<ContentLayer.BODY: 'body'>, name='group', label=<GroupLabel.LIST: 'list'>)], texts=[SectionHeaderItem(self_ref='#/texts/0', parent=RefItem(cref='#/body'), children=[], content_layer=<ContentLayer.BODY: 'body'>, label=<DocItemLabel.SECTION_HEADER: 'section_header'>, prov=[ProvenanceItem(page_no=1, bbox=BoundingBox(l=21.598, t=748.011, r=180.872, b=729.548, coord_origin=<CoordOrigin.BOTTOMLEFT: 'BOTTOMLEFT'>), charspan=(0, 12))], orig='KALEB SAXTON', text='KALEB SAXTON', formatting=None, hyperlink=None, level=1), TextItem(self_ref='#/texts/1', parent=RefItem(cref='#/body'), children=[], content_layer=<ContentLayer.BODY: 'body'>, label=<DocItemLabel.TEXT: 'text'>, prov=[ProvenanceItem(page_no=1, bbox=BoundingBox(l=20.857, t=717.383, r=185.551, b=703.536, coord_origin=<CoordOrigin.BOTTOMLEFT: 'BOTTOMLEFT'>), charspan=(0, 20))], orig='Data Science Manager', text='Data Science Manager', formatting=None, hyperlink=None), ListItem(self_ref='#/texts/2', parent=RefItem(cref='#/groups/0'), children=[], content_layer=<ContentLayer.BODY: 'body'>, label=<DocItemLabel.LIST_ITEM: 'list_item'>, prov=[ProvenanceItem(page_no=1, bbox=BoundingBox(l=41.367, t=677.61, r=150.143, b=667.596, coord_origin=<CoordOrigin.BOTTOMLEFT: 'BOTTOMLEFT'>), charspan=(0, 17))], orig='ksaxton@email.com', text='ksaxton@email.com', formatting=None, hyperlink=None, enumerated=False, marker=''), ListItem(self_ref='#/texts/3', parent=RefItem(cref='#/groups/0'), children=[], content_layer=<ContentLayer.BODY: 'body'>, label=<DocItemLabel.LIST_ITEM: 'list_item'>, prov=[ProvenanceItem(page_no=1, bbox=BoundingBox(l=41.367, t=660.36, r=122.652, b=650.346, coord_origin=<CoordOrigin.BOTTOMLEFT: 'BOTTOMLEFT'>), charspan=(0, 14))], orig='(123) 456-7890', text='456-7890', formatting=None, hyperlink=None, enumerated=True, marker='(123)'), ListItem(self_ref='#/texts/4', parent=RefItem(cref='#/groups/0'), children=[], content_layer=<ContentLayer.BODY: 'body'>, label=<DocItemLabel.LIST_ITEM: 'list_item'>, prov=[ProvenanceItem(page_no=1, bbox=BoundingBox(l=41.367, t=643.11, r=106.716, b=633.096, coord_origin=<CoordOrigin.BOTTOMLEFT: 'BOTTOMLEFT'>), charspan=(0, 11))], orig='Houston, TX', text='Houston, TX', formatting=None, hyperlink=None, enumerated=False, marker=''), ListItem(self_ref='#/texts/5', parent=RefItem(cref='#/groups/0'), children=[], content_layer=<ContentLayer.BODY: 'body'>, label=<DocItemLabel.LIST_ITEM: 'list_item'>, prov=[ProvenanceItem(page_no=1, bbox=BoundingBox(l=41.367, t=625.86, r=88.856, b=615.846, coord_origin=<CoordOrigin.BOTTOMLEFT: 'BOTTOMLEFT'>), charspan=(0, 8))], orig='LinkedIn', text='LinkedIn', formatting=None, hyperlink=None, enumerated=False, marker=''), SectionHeaderItem(self_ref='#/texts/6', parent=RefItem(cref='#/body'), children=[], content_layer=<ContentLayer.BODY: 'body'>, label=<DocItemLabel.SECTION_HEADER: 'section_header'>, prov=[ProvenanceItem(page_no=1, bbox=BoundingBox(l=21.598, t=572.633, r=115.366, b=558.786, coord_origin=<CoordOrigin.BOTTOMLEFT: 'BOTTOMLEFT'>), charspan=(0, 9))], orig='EDUCATION', text='EDUCATION', formatting=None, hyperlink=None, level=1), TextItem(self_ref='#/texts/7', parent=RefItem(cref='#/body'), children=[], content_layer=<ContentLayer.BODY: 'body'>, label=<DocItemLabel.TEXT: 'text'>, prov=[ProvenanceItem(page_no=1, bbox=BoundingBox(l=21.598, t=547.286, r=42.123, b=536.092, coord_origin=<CoordOrigin.BOTTOMLEFT: 'BOTTOMLEFT'>), charspan=(0, 4))], orig='B.S.', text='B.S.', formatting=None, hyperlink=None), TextItem(self_ref='#/texts/8', parent=RefItem(cref='#/body'), children=[], content_layer=<ContentLayer.BODY: 'body'>, label=<DocItemLabel.TEXT: 'text'>, prov=[ProvenanceItem(page_no=1, bbox=BoundingBox(l=21.598, t=528.536, r=184.219, b=517.342, coord_origin=<CoordOrigin.BOTTOMLEFT: 'BOTTOMLEFT'>), charspan=(0, 25))], orig='Mathematics and Economics', text='Mathematics and Economics', formatting=None, hyperlink=None), SectionHeaderItem(self_ref='#/texts/9', parent=RefItem(cref='#/body'), children=[], content_layer=<ContentLayer.BODY: 'body'>, label=<DocItemLabel.SECTION_HEADER: 'section_header'>, prov=[ProvenanceItem(page_no=1, bbox=BoundingBox(l=21.598, t=509.786, r=106.196, b=498.592, coord_origin=<CoordOrigin.BOTTOMLEFT: 'BOTTOMLEFT'>), charspan=(0, 15))], orig='Rice University', text='Rice University', formatting=None, hyperlink=None, level=1), ListItem(self_ref='#/texts/10', parent=RefItem(cref='#/groups/1'), children=[], content_layer=<ContentLayer.BODY: 'body'>, label=<DocItemLabel.LIST_ITEM: 'list_item'>, prov=[ProvenanceItem(page_no=1, bbox=BoundingBox(l=38.367, t=491.61, r=188.662, b=481.596, coord_origin=<CoordOrigin.BOTTOMLEFT: 'BOTTOMLEFT'>), charspan=(0, 27))], orig='September 2008 - April 2012', text='September 2008 - April 2012', formatting=None, hyperlink=None, enumerated=False, marker=''), ListItem(self_ref='#/texts/11', parent=RefItem(cref='#/groups/1'), children=[], content_layer=<ContentLayer.BODY: 'body'>, label=<DocItemLabel.LIST_ITEM: 'list_item'>, prov=[ProvenanceItem(page_no=1, bbox=BoundingBox(l=38.367, t=474.36, r=100.972, b=464.346, coord_origin=<CoordOrigin.BOTTOMLEFT: 'BOTTOMLEFT'>), charspan=(0, 11))], orig='Houston, TX', text='Houston, TX', formatting=None, hyperlink=None, enumerated=False, marker=''), SectionHeaderItem(self_ref='#/texts/12', parent=RefItem(cref='#/body'), children=[], content_layer=<ContentLayer.BODY: 'body'>, label=<DocItemLabel.SECTION_HEADER: 'section_header'>, prov=[ProvenanceItem(page_no=1, bbox=BoundingBox(l=21.598, t=426.383, r=76.645, b=412.536, coord_origin=<CoordOrigin.BOTTOMLEFT: 'BOTTOMLEFT'>), charspan=(0, 6))], orig='SKILLS', text='SKILLS', formatting=None, hyperlink=None, level=1), TextItem(self_ref='#/texts/13', parent=RefItem(cref='#/body'), children=[], content_layer=<ContentLayer.BODY: 'body'>, label=<DocItemLabel.TEXT: 'text'>, prov=[ProvenanceItem(page_no=1, bbox=BoundingBox(l=21.598, t=401.61, r=182.64, b=377.346, coord_origin=<CoordOrigin.BOTTOMLEFT: 'BOTTOMLEFT'>), charspan=(0, 49))], orig='Python (NumPy, Pandas, Scikitlearn, Keras, Flask)', text='Python (NumPy, Pandas, Scikitlearn, Keras, Flask)', formatting=None, hyperlink=None), TextItem(self_ref='#/texts/14', parent=RefItem(cref='#/body'), children=[], content_layer=<ContentLayer.BODY: 'body'>, label=<DocItemLabel.TEXT: 'text'>, prov=[ProvenanceItem(page_no=1, bbox=BoundingBox(l=21.598, t=370.11, r=187.046, b=345.846, coord_origin=<CoordOrigin.BOTTOMLEFT: 'BOTTOMLEFT'>), charspan=(0, 38))], orig='SQL (Redshift, MySQL, Postgres, NoSQL)', text='SQL (Redshift, MySQL, Postgres, NoSQL)', formatting=None, hyperlink=None), TextItem(self_ref='#/texts/15', parent=RefItem(cref='#/body'), children=[], content_layer=<ContentLayer.BODY: 'body'>, label=<DocItemLabel.TEXT: 'text'>, prov=[ProvenanceItem(page_no=1, bbox=BoundingBox(l=21.598, t=338.61, r=36.734, b=328.596, coord_origin=<CoordOrigin.BOTTOMLEFT: 'BOTTOMLEFT'>), charspan=(0, 3))], orig='Git', text='Git', formatting=None, hyperlink=None), TextItem(self_ref='#/texts/16', parent=RefItem(cref='#/body'), children=[], content_layer=<ContentLayer.BODY: 'body'>, label=<DocItemLabel.TEXT: 'text'>, prov=[ProvenanceItem(page_no=1, bbox=BoundingBox(l=21.598, t=321.36, r=138.025, b=311.346, coord_origin=<CoordOrigin.BOTTOMLEFT: 'BOTTOMLEFT'>), charspan=(0, 21))], orig='Leadership Experience', text='Leadership Experience', formatting=None, hyperlink=None), TextItem(self_ref='#/texts/17', parent=RefItem(cref='#/body'), children=[], content_layer=<ContentLayer.BODY: 'body'>, label=<DocItemLabel.TEXT: 'text'>, prov=[ProvenanceItem(page_no=1, bbox=BoundingBox(l=21.598, t=304.11, r=155.85, b=294.096, coord_origin=<CoordOrigin.BOTTOMLEFT: 'BOTTOMLEFT'>), charspan=(0, 22))], orig='Recommendation Engines', text='Recommendation Engines', formatting=None, hyperlink=None), TextItem(self_ref='#/texts/18', parent=RefItem(cref='#/body'), children=[], content_layer=<ContentLayer.BODY: 'body'>, label=<DocItemLabel.TEXT: 'text'>, prov=[ProvenanceItem(page_no=1, bbox=BoundingBox(l=21.598, t=286.86, r=146.105, b=276.846, coord_origin=<CoordOrigin.BOTTOMLEFT: 'BOTTOMLEFT'>), charspan=(0, 21))], orig='Customer Segmentation', text='Customer Segmentation', formatting=None, hyperlink=None), TextItem(self_ref='#/texts/19', parent=RefItem(cref='#/body'), children=[], content_layer=<ContentLayer.BODY: 'body'>, label=<DocItemLabel.TEXT: 'text'>, prov=[ProvenanceItem(page_no=1, bbox=BoundingBox(l=21.598, t=269.61, r=128.879, b=259.596, coord_origin=<CoordOrigin.BOTTOMLEFT: 'BOTTOMLEFT'>), charspan=(0, 19))], orig='Propensity Modeling', text='Propensity Modeling', formatting=None, hyperlink=None), TextItem(self_ref='#/texts/20', parent=RefItem(cref='#/body'), children=[], content_layer=<ContentLayer.BODY: 'body'>, label=<DocItemLabel.TEXT: 'text'>, prov=[ProvenanceItem(page_no=1, bbox=BoundingBox(l=21.598, t=252.36, r=143.85, b=242.346, coord_origin=<CoordOrigin.BOTTOMLEFT: 'BOTTOMLEFT'>), charspan=(0, 22))], orig='Productionizing Models', text='Productionizing Models', formatting=None, hyperlink=None), SectionHeaderItem(self_ref='#/texts/21', parent=RefItem(cref='#/body'), children=[], content_layer=<ContentLayer.BODY: 'body'>, label=<DocItemLabel.SECTION_HEADER: 'section_header'>, prov=[ProvenanceItem(page_no=1, bbox=BoundingBox(l=230.402, t=749.633, r=381.854, b=735.786, coord_origin=<CoordOrigin.BOTTOMLEFT: 'BOTTOMLEFT'>), charspan=(0, 15))], orig='WORK EXPERIENCE', text='WORK EXPERIENCE', formatting=None, hyperlink=None, level=1), SectionHeaderItem(self_ref='#/texts/22', parent=RefItem(cref='#/body'), children=[], content_layer=<ContentLayer.BODY: 'body'>, label=<DocItemLabel.SECTION_HEADER: 'section_header'>, prov=[ProvenanceItem(page_no=1, bbox=BoundingBox(l=230.402, t=723.599, r=394.249, b=709.458, coord_origin=<CoordOrigin.BOTTOMLEFT: 'BOTTOMLEFT'>), charspan=(0, 20))], orig='Data Science Manager', text='Data Science Manager', formatting=None, hyperlink=None, level=1), SectionHeaderItem(self_ref='#/texts/23', parent=RefItem(cref='#/body'), children=[], content_layer=<ContentLayer.BODY: 'body'>, label=<DocItemLabel.SECTION_HEADER: 'section_header'>, prov=[ProvenanceItem(page_no=1, bbox=BoundingBox(l=230.402, t=701.786, r=337.334, b=690.592, coord_origin=<CoordOrigin.BOTTOMLEFT: 'BOTTOMLEFT'>), charspan=(0, 17))], orig='Westlake Chemical', text='Westlake Chemical', formatting=None, hyperlink=None, level=1), ListItem(self_ref='#/texts/24', parent=RefItem(cref='#/groups/2'), children=[], content_layer=<ContentLayer.BODY: 'body'>, label=<DocItemLabel.LIST_ITEM: 'list_item'>, prov=[ProvenanceItem(page_no=1, bbox=BoundingBox(l=247.172, t=683.61, r=371.059, b=673.596, coord_origin=<CoordOrigin.BOTTOMLEFT: 'BOTTOMLEFT'>), charspan=(0, 23))], orig='February 2018 - current', text='February 2018 - current', formatting=None, hyperlink=None, enumerated=False, marker=''), TextItem(self_ref='#/texts/25', parent=RefItem(cref='#/groups/3'), children=[], content_layer=<ContentLayer.BODY: 'body'>, label=<DocItemLabel.CHECKBOX_UNSELECTED: 'checkbox_unselected'>, prov=[ProvenanceItem(page_no=1, bbox=BoundingBox(l=423.691, t=683.61, r=486.296, b=673.596, coord_origin=<CoordOrigin.BOTTOMLEFT: 'BOTTOMLEFT'>), charspan=(0, 11))], orig='Houston, TX', text='Houston, TX', formatting=None, hyperlink=None), ListItem(self_ref='#/texts/26', parent=RefItem(cref='#/groups/2'), children=[], content_layer=<ContentLayer.BODY: 'body'>, label=<DocItemLabel.LIST_ITEM: 'list_item'>, prov=[ProvenanceItem(page_no=1, bbox=BoundingBox(l=245.402, t=668.885, r=579.966, b=627.846, coord_origin=<CoordOrigin.BOTTOMLEFT: 'BOTTOMLEFT'>), charspan=(0, 174))], orig='· Supervised 3 data scientists and 1 data engineer in developing marketing mix models that led to an ROI improvement of 21% on digital marketing spend over the last 13 months', text='Supervised 3 data scientists and 1 data engineer in developing marketing mix models that led to an ROI improvement of 21% on digital marketing spend over the last 13 months', formatting=None, hyperlink=None, enumerated=False, marker='·'), ListItem(self_ref='#/texts/27', parent=RefItem(cref='#/groups/2'), children=[], content_layer=<ContentLayer.BODY: 'body'>, label=<DocItemLabel.LIST_ITEM: 'list_item'>, prov=[ProvenanceItem(page_no=1, bbox=BoundingBox(l=245.402, t=623.135, r=582.601, b=582.096, coord_origin=<CoordOrigin.BOTTOMLEFT: 'BOTTOMLEFT'>), charspan=(0, 187))], orig='· Collaborated with the product and marketing teams to identify which pre-client interactions increased chances of conversions, ultimately helping team to increase conversion rates by 32%', text='Collaborated with the product and marketing teams to identify which pre-client interactions increased chances of conversions, ultimately helping team to increase conversion rates by 32%', formatting=None, hyperlink=None, enumerated=False, marker='·'), ListItem(self_ref='#/texts/28', parent=RefItem(cref='#/groups/2'), children=[], content_layer=<ContentLayer.BODY: 'body'>, label=<DocItemLabel.LIST_ITEM: 'list_item'>, prov=[ProvenanceItem(page_no=1, bbox=BoundingBox(l=245.402, t=577.385, r=588.147, b=550.596, coord_origin=<CoordOrigin.BOTTOMLEFT: 'BOTTOMLEFT'>), charspan=(0, 91))], orig='· Developed documentation for methodologies and standards for the growing data science team', text='Developed documentation for methodologies and standards for the growing data science team', formatting=None, hyperlink=None, enumerated=False, marker='·'), ListItem(self_ref='#/texts/29', parent=RefItem(cref='#/groups/2'), children=[], content_layer=<ContentLayer.BODY: 'body'>, label=<DocItemLabel.LIST_ITEM: 'list_item'>, prov=[ProvenanceItem(page_no=1, bbox=BoundingBox(l=245.402, t=545.885, r=552.899, b=504.846, coord_origin=<CoordOrigin.BOTTOMLEFT: 'BOTTOMLEFT'>), charspan=(0, 131))], orig='· Identified duplications across team projects, and reduced instances of this by 92% with increased coordination and accountability', text='Identified duplications across team projects, and reduced instances of this by 92% with increased coordination and accountability', formatting=None, hyperlink=None, enumerated=False, marker='·'), SectionHeaderItem(self_ref='#/texts/30', parent=RefItem(cref='#/body'), children=[], content_layer=<ContentLayer.BODY: 'body'>, label=<DocItemLabel.SECTION_HEADER: 'section_header'>, prov=[ProvenanceItem(page_no=1, bbox=BoundingBox(l=230.402, t=478.349, r=381.391, b=464.208, coord_origin=<CoordOrigin.BOTTOMLEFT: 'BOTTOMLEFT'>), charspan=(0, 21))], orig='Senior Data Scientist', text='Senior Data Scientist', formatting=None, hyperlink=None, level=1), SectionHeaderItem(self_ref='#/texts/31', parent=RefItem(cref='#/body'), children=[], content_layer=<ContentLayer.BODY: 'body'>, label=<DocItemLabel.SECTION_HEADER: 'section_header'>, prov=[ProvenanceItem(page_no=1, bbox=BoundingBox(l=230.402, t=456.536, r=374.394, b=445.342, coord_origin=<CoordOrigin.BOTTOMLEFT: 'BOTTOMLEFT'>), charspan=(0, 24))], orig='Energy Transfer Partners', text='Energy Transfer Partners', formatting=None, hyperlink=None, level=1), ListItem(self_ref='#/texts/32', parent=RefItem(cref='#/groups/4'), children=[], content_layer=<ContentLayer.BODY: 'body'>, label=<DocItemLabel.LIST_ITEM: 'list_item'>, prov=[ProvenanceItem(page_no=1, bbox=BoundingBox(l=247.172, t=438.36, r=401.967, b=428.346, coord_origin=<CoordOrigin.BOTTOMLEFT: 'BOTTOMLEFT'>), charspan=(0, 28))], orig='January 2015 - February 2018', text='January 2015 - February 2018', formatting=None, hyperlink=None, enumerated=False, marker=''), ListItem(self_ref='#/texts/33', parent=RefItem(cref='#/groups/6'), children=[], content_layer=<ContentLayer.BODY: 'body'>, label=<DocItemLabel.LIST_ITEM: 'list_item'>, prov=[ProvenanceItem(page_no=1, bbox=BoundingBox(l=455.191, t=438.36, r=517.796, b=428.346, coord_origin=<CoordOrigin.BOTTOMLEFT: 'BOTTOMLEFT'>), charspan=(0, 11))], orig='Houston, TX', text='Houston, TX', formatting=None, hyperlink=None, enumerated=False, marker=''), ListItem(self_ref='#/texts/34', parent=RefItem(cref='#/groups/4'), children=[], content_layer=<ContentLayer.BODY: 'body'>, label=<DocItemLabel.LIST_ITEM: 'list_item'>, prov=[ProvenanceItem(page_no=1, bbox=BoundingBox(l=245.402, t=423.635, r=589.789, b=382.596, coord_origin=<CoordOrigin.BOTTOMLEFT: 'BOTTOMLEFT'>), charspan=(0, 137))], orig='· Worked closely with the product team to build a production prediction engine in Python page, which reduced crude oil profit loss by 16%', text='Worked closely with the product team to build a production prediction engine in Python page, which reduced crude oil profit loss by 16%', formatting=None, hyperlink=None, enumerated=False, marker='·'), ListItem(self_ref='#/texts/35', parent=RefItem(cref='#/groups/4'), children=[], content_layer=<ContentLayer.BODY: 'body'>, label=<DocItemLabel.LIST_ITEM: 'list_item'>, prov=[ProvenanceItem(page_no=1, bbox=BoundingBox(l=245.402, t=377.885, r=571.552, b=351.096, coord_origin=<CoordOrigin.BOTTOMLEFT: 'BOTTOMLEFT'>), charspan=(0, 101))], orig='· Used random forest models to study well subsets in order to optimize and increase efficiency by 22%', text='Used random forest models to study well subsets in order to optimize and increase efficiency by 22%', formatting=None, hyperlink=None, enumerated=False, marker='·'), ListItem(self_ref='#/texts/36', parent=RefItem(cref='#/groups/4'), children=[], content_layer=<ContentLayer.BODY: 'body'>, label=<DocItemLabel.LIST_ITEM: 'list_item'>, prov=[ProvenanceItem(page_no=1, bbox=BoundingBox(l=245.402, t=346.385, r=585.897, b=319.596, coord_origin=<CoordOrigin.BOTTOMLEFT: 'BOTTOMLEFT'>), charspan=(0, 96))], orig='· Compiled and prepared data and reports 2 times per month for stakeholders and functional teams', text='Compiled and prepared data and reports 2 times per month for stakeholders and functional teams', formatting=None, hyperlink=None, enumerated=False, marker='·'), ListItem(self_ref='#/texts/37', parent=RefItem(cref='#/groups/4'), children=[], content_layer=<ContentLayer.BODY: 'body'>, label=<DocItemLabel.LIST_ITEM: 'list_item'>, prov=[ProvenanceItem(page_no=1, bbox=BoundingBox(l=245.402, t=314.885, r=575.397, b=288.096, coord_origin=<CoordOrigin.BOTTOMLEFT: 'BOTTOMLEFT'>), charspan=(0, 110))], orig='· Recommended over 100 actionable steps within the first year that improved automation by 7% and profits by 9%', text='Recommended over 100 actionable steps within the first year that improved automation by 7% and profits by 9%', formatting=None, hyperlink=None, enumerated=False, marker='·'), SectionHeaderItem(self_ref='#/texts/38', parent=RefItem(cref='#/body'), children=[], content_layer=<ContentLayer.BODY: 'body'>, label=<DocItemLabel.SECTION_HEADER: 'section_header'>, prov=[ProvenanceItem(page_no=1, bbox=BoundingBox(l=230.402, t=261.59899999999993, r=322.141, b=247.45799999999997, coord_origin=<CoordOrigin.BOTTOMLEFT: 'BOTTOMLEFT'>), charspan=(0, 12))], orig='Data Analyst', text='Data Analyst', formatting=None, hyperlink=None, level=1), SectionHeaderItem(self_ref='#/texts/39', parent=RefItem(cref='#/body'), children=[], content_layer=<ContentLayer.BODY: 'body'>, label=<DocItemLabel.SECTION_HEADER: 'section_header'>, prov=[ProvenanceItem(page_no=1, bbox=BoundingBox(l=230.402, t=239.78600000000006, r=341.251, b=228.59199999999998, coord_origin=<CoordOrigin.BOTTOMLEFT: 'BOTTOMLEFT'>), charspan=(0, 18))], orig='CenterPoint Energy', text='CenterPoint Energy', formatting=None, hyperlink=None, level=1), ListItem(self_ref='#/texts/40', parent=RefItem(cref='#/groups/7'), children=[], content_layer=<ContentLayer.BODY: 'body'>, label=<DocItemLabel.LIST_ITEM: 'list_item'>, prov=[ProvenanceItem(page_no=1, bbox=BoundingBox(l=247.172, t=221.61, r=380.217, b=211.596, coord_origin=<CoordOrigin.BOTTOMLEFT: 'BOTTOMLEFT'>), charspan=(0, 25))], orig='April 2012 - January 2015', text='April 2012 - January 2015', formatting=None, hyperlink=None, enumerated=False, marker=''), ListItem(self_ref='#/texts/41', parent=RefItem(cref='#/groups/9'), children=[], content_layer=<ContentLayer.BODY: 'body'>, label=<DocItemLabel.LIST_ITEM: 'list_item'>, prov=[ProvenanceItem(page_no=1, bbox=BoundingBox(l=433.441, t=221.61, r=496.046, b=211.596, coord_origin=<CoordOrigin.BOTTOMLEFT: 'BOTTOMLEFT'>), charspan=(0, 11))], orig='Houston, TX', text='Houston, TX', formatting=None, hyperlink=None, enumerated=False, marker=''), ListItem(self_ref='#/texts/42', parent=RefItem(cref='#/groups/7'), children=[], content_layer=<ContentLayer.BODY: 'body'>, label=<DocItemLabel.LIST_ITEM: 'list_item'>, prov=[ProvenanceItem(page_no=1, bbox=BoundingBox(l=245.402, t=206.885, r=575.851, b=180.096, coord_origin=<CoordOrigin.BOTTOMLEFT: 'BOTTOMLEFT'>), charspan=(0, 104))], orig='· Identified process improvements through client data analysis, which led to a reduced profit loss of 8%', text='Identified process improvements through client data analysis, which led to a reduced profit loss of 8%', formatting=None, hyperlink=None, enumerated=False, marker='·'), ListItem(self_ref='#/texts/43', parent=RefItem(cref='#/groups/7'), children=[], content_layer=<ContentLayer.BODY: 'body'>, label=<DocItemLabel.LIST_ITEM: 'list_item'>, prov=[ProvenanceItem(page_no=1, bbox=BoundingBox(l=245.402, t=175.385, r=555.681, b=148.596, coord_origin=<CoordOrigin.BOTTOMLEFT: 'BOTTOMLEFT'>), charspan=(0, 108))], orig='· Owned the reporting using Python and SQL for energy production, saving 30+ hours of manual hours each week', text='Owned the reporting using Python and SQL for energy production, saving 30+ hours of manual hours each week', formatting=None, hyperlink=None, enumerated=False, marker='·'), ListItem(self_ref='#/texts/44', parent=RefItem(cref='#/groups/7'), children=[], content_layer=<ContentLayer.BODY: 'body'>, label=<DocItemLabel.LIST_ITEM: 'list_item'>, prov=[ProvenanceItem(page_no=1, bbox=BoundingBox(l=245.402, t=143.885, r=576.16, b=117.096, coord_origin=<CoordOrigin.BOTTOMLEFT: 'BOTTOMLEFT'>), charspan=(0, 117))], orig='· Built ETL infrastructures and delivered data to Redshift, which increased stakeholder decision making output by 42%', text='Built ETL infrastructures and delivered data to Redshift, which increased stakeholder decision making output by 42%', formatting=None, hyperlink=None, enumerated=False, marker='·'), ListItem(self_ref='#/texts/45', parent=RefItem(cref='#/groups/7'), children=[], content_layer=<ContentLayer.BODY: 'body'>, label=<DocItemLabel.LIST_ITEM: 'list_item'>, prov=[ProvenanceItem(page_no=1, bbox=BoundingBox(l=245.402, t=112.38499999999999, r=568.649, b=85.596, coord_origin=<CoordOrigin.BOTTOMLEFT: 'BOTTOMLEFT'>), charspan=(0, 91))], orig='· Created and developed 5 new testing strategies, and created and updated the documentation', text='Created and developed 5 new testing strategies, and created and updated the documentation', formatting=None, hyperlink=None, enumerated=False, marker='·')], pictures=[], tables=[], key_value_items=[], form_items=[], pages={1: PageItem(size=Size(width=612.0, height=792.0), image=None, page_no=1)})>\n",
      "\n"
     ]
    }
   ],
   "source": [
    "prompt = f\"\"\"\n",
    "Summarize this resume just in 1 paragraph: \n",
    "{content}\n",
    "\"\"\"\n",
    "\n",
    "print(prompt)"
   ]
  },
  {
   "cell_type": "code",
   "execution_count": 38,
   "id": "49cbddd4",
   "metadata": {},
   "outputs": [
    {
     "data": {
      "text/plain": [
       "\"Kaleb Saxton is an accomplished Data Science Manager with over a decade of experience in data analysis, machine learning, and team leadership, holding a B.S. in Mathematics and Economics from Rice University. Currently at Westlake Chemical, Kaleb supervises a team of data scientists and engineers, driving significant ROI improvements (21% on digital marketing spend) and conversion rate increases (32%) through marketing mix models and strategic collaborations. Previously, as a Senior Data Scientist at Energy Transfer Partners, Kaleb developed a production prediction engine that reduced crude oil profit loss by 16% and optimized efficiency by 22% using random forest models. Earlier, as a Data Analyst at CenterPoint Energy, Kaleb identified process improvements reducing profit loss by 8%, automated reporting saving 30+ hours weekly, and built ETL infrastructures that boosted stakeholder decision-making output by 42%. Kaleb's expertise spans Python (NumPy, Pandas, Scikitlearn, Keras, Flask), SQL, Git, recommendation engines, customer segmentation, and productionizing models.\""
      ]
     },
     "execution_count": 38,
     "metadata": {},
     "output_type": "execute_result"
    }
   ],
   "source": [
    "output = llm.invoke(prompt) \n",
    "output.content"
   ]
  },
  {
   "cell_type": "markdown",
   "id": "f2d1f134",
   "metadata": {},
   "source": [
    "## Displaying the Result "
   ]
  },
  {
   "cell_type": "code",
   "execution_count": 41,
   "id": "4f447e01",
   "metadata": {},
   "outputs": [
    {
     "data": {
      "text/markdown": [
       "Kaleb Saxton is an accomplished Data Science Manager with over a decade of experience in data analysis, machine learning, and team leadership, holding a B.S. in Mathematics and Economics from Rice University. Currently at Westlake Chemical, Kaleb supervises a team of data scientists and engineers, driving significant ROI improvements (21% on digital marketing spend) and conversion rate increases (32%) through marketing mix models and strategic collaborations. Previously, as a Senior Data Scientist at Energy Transfer Partners, Kaleb developed a production prediction engine that reduced crude oil profit loss by 16% and optimized efficiency by 22% using random forest models. Earlier, as a Data Analyst at CenterPoint Energy, Kaleb identified process improvements reducing profit loss by 8%, automated reporting saving 30+ hours weekly, and built ETL infrastructures that boosted stakeholder decision-making output by 42%. Kaleb's expertise spans Python (NumPy, Pandas, Scikitlearn, Keras, Flask), SQL, Git, recommendation engines, customer segmentation, and productionizing models."
      ],
      "text/plain": [
       "<IPython.core.display.Markdown object>"
      ]
     },
     "metadata": {},
     "output_type": "display_data"
    }
   ],
   "source": [
    "def show_res(res): \n",
    "    from IPython.display import Markdown \n",
    "    display(Markdown(res)) \n",
    "\n",
    "show_res(res) "
   ]
  },
  {
   "cell_type": "markdown",
   "id": "8a7e16a7",
   "metadata": {},
   "source": [
    "# Building the Prompt"
   ]
  },
  {
   "cell_type": "markdown",
   "id": "aac56677",
   "metadata": {},
   "source": [
    "## Prompt Base "
   ]
  },
  {
   "cell_type": "code",
   "execution_count": 47,
   "id": "018f7f5a",
   "metadata": {},
   "outputs": [],
   "source": [
    "from langchain_core.prompts import ( \n",
    "    ChatPromptTemplate, \n",
    "    HumanMessagePromptTemplate, \n",
    "    MessagesPlaceholder\n",
    ") \n",
    "\n",
    "prompt_template = ChatPromptTemplate.from_template(\n",
    "\"\"\"\n",
    "You are a Human Resources specialist with extensive experience in resume analysis. \n",
    "Your task is to review the content below and extract the information using the exact JSON structure provided.\n",
    "Respond with only the structured JSON output and use only the specified keys. \n",
    "Make sure the key names match the schema exactly. \n",
    "Do not include explanations or comments outside the JSON.\n",
    "\n",
    "Schema:\n",
    "{schema}\n",
    "                                                   \n",
    "--- \n",
    "\n",
    "Resume to be analyzed: \n",
    "'{cv}'                                         \n",
    "\"\"\")"
   ]
  },
  {
   "cell_type": "code",
   "execution_count": 48,
   "id": "899ff385",
   "metadata": {},
   "outputs": [
    {
     "data": {
      "text/plain": [
       "ChatPromptTemplate(input_variables=['cv', 'schema'], input_types={}, partial_variables={}, messages=[HumanMessagePromptTemplate(prompt=PromptTemplate(input_variables=['cv', 'schema'], input_types={}, partial_variables={}, template=\"\\nYou are a Human Resources specialist with extensive experience in resume analysis. \\nYour task is to review the content below and extract the information using the exact JSON structure provided.\\nRespond with only the structured JSON output and use only the specified keys. \\nMake sure the key names match the schema exactly. \\nDo not include explanations or comments outside the JSON.\\n\\nSchema:\\n{schema}\\n\\n--- \\n\\nResume to be analyzed: \\n'{cv}'                                         \\n\"), additional_kwargs={})])"
      ]
     },
     "execution_count": 48,
     "metadata": {},
     "output_type": "execute_result"
    }
   ],
   "source": [
    "prompt_template"
   ]
  },
  {
   "cell_type": "markdown",
   "id": "6915c9e3",
   "metadata": {},
   "source": [
    "### Defining Schema for Resume Parsing"
   ]
  },
  {
   "cell_type": "markdown",
   "id": "740c9c4e",
   "metadata": {},
   "source": [
    "- Full Name \n",
    "- Area of Expertise \n",
    "- Profile Summary \n",
    "- Key Skills \n",
    "- Education \n",
    "- Suggested Interview Question"
   ]
  },
  {
   "cell_type": "code",
   "execution_count": 49,
   "id": "199909e4",
   "metadata": {},
   "outputs": [],
   "source": [
    "schema = \"\"\"\n",
    "{ \n",
    "    \"name\": \"Full name of the candidate\", \n",
    "    \"area\": \"Primary area of field\" \n",
    "    \"summary\": \"Concise summary of the candidate\",\n",
    "    \"skills\": [\"skill 1\", \"skill 2\", \"...\"],\n",
    "    \"education\": \"Summary of the most relevant academic background\", \n",
    "    \"interview_questions\": \"Useful interview question based on the resume, to clarify or explore a specific point\",\n",
    "}\n",
    "\"\"\""
   ]
  },
  {
   "cell_type": "code",
   "execution_count": 50,
   "id": "542381cc",
   "metadata": {},
   "outputs": [
    {
     "data": {
      "text/markdown": [
       "```json\n",
       "{\n",
       "    \"name\": \"KALEB SAXTON\",\n",
       "    \"area\": \"Data Science Manager\",\n",
       "    \"summary\": \"Experienced Data Science Manager with a strong background in leading data science teams, developing advanced analytical models, and driving significant business improvements. Proven ability to supervise teams, optimize marketing strategies, and enhance operational efficiency through data-driven insights. Proficient in Python, SQL, and various machine learning techniques, with a solid foundation in mathematics and economics.\",\n",
       "    \"skills\": [\n",
       "        \"Python (NumPy, Pandas, Scikitlearn, Keras, Flask)\",\n",
       "        \"SQL (Redshift, MySQL, Postgres, NoSQL)\",\n",
       "        \"Git\",\n",
       "        \"Leadership Experience\",\n",
       "        \"Recommendation Engines\",\n",
       "        \"Customer Segmentation\",\n",
       "        \"Propensity Modeling\",\n",
       "        \"Productionizing Models\"\n",
       "    ],\n",
       "    \"education\": \"B.S. in Mathematics and Economics from Rice University (September 2008 - April 2012).\",\n",
       "    \"interview_questions\": \"Given your success in supervising a team to achieve a 21% ROI improvement on digital marketing spend and a 32% increase in conversion rates, can you describe your approach to team leadership and how you ensure your team's projects are aligned with key business objectives?\"\n",
       "}\n",
       "```"
      ],
      "text/plain": [
       "<IPython.core.display.Markdown object>"
      ]
     },
     "metadata": {},
     "output_type": "display_data"
    }
   ],
   "source": [
    "chain = prompt_template | llm \n",
    "output = chain.invoke({\"schema\": schema, \"cv\": content}) \n",
    "\n",
    "show_res(output.content)"
   ]
  },
  {
   "cell_type": "code",
   "execution_count": null,
   "id": "0caa18b0",
   "metadata": {},
   "outputs": [],
   "source": []
  }
 ],
 "metadata": {
  "kernelspec": {
   "display_name": "Python 3",
   "language": "python",
   "name": "python3"
  },
  "language_info": {
   "codemirror_mode": {
    "name": "ipython",
    "version": 3
   },
   "file_extension": ".py",
   "mimetype": "text/x-python",
   "name": "python",
   "nbconvert_exporter": "python",
   "pygments_lexer": "ipython3",
   "version": "3.11.4"
  }
 },
 "nbformat": 4,
 "nbformat_minor": 5
}
